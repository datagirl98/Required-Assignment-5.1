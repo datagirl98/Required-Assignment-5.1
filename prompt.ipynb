{
  "cells": [
    {
      "cell_type": "markdown",
      "metadata": {
        "id": "view-in-github",
        "colab_type": "text"
      },
      "source": [
        "<a href=\"https://colab.research.google.com/github/datagirl98/Required-Assignment-5.1/blob/main/prompt.ipynb\" target=\"_parent\"><img src=\"https://colab.research.google.com/assets/colab-badge.svg\" alt=\"Open In Colab\"/></a>"
      ]
    },
    {
      "cell_type": "markdown",
      "metadata": {
        "id": "CcUT6Fon_qRE"
      },
      "source": [
        "### Required Assignment 5.1: Will the Customer Accept the Coupon?\n",
        "\n",
        "**Context**\n",
        "\n",
        "Imagine driving through town and a coupon is delivered to your cell phone for a restaurant near where you are driving. Would you accept that coupon and take a short detour to the restaurant? Would you accept the coupon but use it on a subsequent trip? Would you ignore the coupon entirely? What if the coupon was for a bar instead of a restaurant? What about a coffee house? Would you accept a bar coupon with a minor passenger in the car? What about if it was just you and your partner in the car? Would weather impact the rate of acceptance? What about the time of day?\n",
        "\n",
        "Obviously, proximity to the business is a factor on whether the coupon is delivered to the driver or not, but what are the factors that determine whether a driver accepts the coupon once it is delivered to them? How would you determine whether a driver is likely to accept a coupon?\n",
        "\n",
        "**Overview**\n",
        "\n",
        "The goal of this project is to use what you know about visualizations and probability distributions to distinguish between customers who accepted a driving coupon versus those that did not.\n",
        "\n",
        "**Data**\n",
        "\n",
        "This data comes to us from the UCI Machine Learning repository and was collected via a survey on Amazon Mechanical Turk. The survey describes different driving scenarios including the destination, current time, weather, passenger, etc., and then ask the person whether he will accept the coupon if he is the driver. Answers that the user will drive there ‘right away’ or ‘later before the coupon expires’ are labeled as ‘Y = 1’ and answers ‘no, I do not want the coupon’ are labeled as ‘Y = 0’.  There are five different types of coupons -- less expensive restaurants (under \\$20), coffee houses, carry out & take away, bar, and more expensive restaurants (\\$20 - $50)."
      ]
    },
    {
      "cell_type": "markdown",
      "metadata": {
        "id": "1wORvMBJ_qRF"
      },
      "source": [
        "**Deliverables**\n",
        "\n",
        "Your final product should be a brief report that highlights the differences between customers who did and did not accept the coupons.  To explore the data you will utilize your knowledge of plotting, statistical summaries, and visualization using Python. You will publish your findings in a public facing github repository as your first portfolio piece.\n",
        "\n",
        "\n",
        "\n"
      ]
    },
    {
      "cell_type": "markdown",
      "metadata": {
        "id": "pG6_Ym6q_qRG"
      },
      "source": [
        "### Data Description\n",
        "Keep in mind that these values mentioned below are average values.\n",
        "\n",
        "The attributes of this data set include:\n",
        "1. User attributes\n",
        "    -  Gender: male, female\n",
        "    -  Age: below 21, 21 to 25, 26 to 30, etc.\n",
        "    -  Marital Status: single, married partner, unmarried partner, or widowed\n",
        "    -  Number of children: 0, 1, or more than 1\n",
        "    -  Education: high school, bachelors degree, associates degree, or graduate degree\n",
        "    -  Occupation: architecture & engineering, business & financial, etc.\n",
        "    -  Annual income: less than \\\\$12500, \\\\$12500 - \\\\$24999, \\\\$25000 - \\\\$37499, etc.\n",
        "    -  Number of times that he/she goes to a bar: 0, less than 1, 1 to 3, 4 to 8 or greater than 8\n",
        "    -  Number of times that he/she buys takeaway food: 0, less than 1, 1 to 3, 4 to 8 or greater\n",
        "    than 8\n",
        "    -  Number of times that he/she goes to a coffee house: 0, less than 1, 1 to 3, 4 to 8 or\n",
        "    greater than 8\n",
        "    -  Number of times that he/she eats at a restaurant with average expense less than \\\\$20 per\n",
        "    person: 0, less than 1, 1 to 3, 4 to 8 or greater than 8\n",
        "    -  Number of times that he/she goes to a bar: 0, less than 1, 1 to 3, 4 to 8 or greater than 8\n",
        "    \n",
        "\n",
        "2. Contextual attributes\n",
        "    - Driving destination: home, work, or no urgent destination\n",
        "    - Location of user, coupon and destination: we provide a map to show the geographical\n",
        "    location of the user, destination, and the venue, and we mark the distance between each\n",
        "    two places with time of driving. The user can see whether the venue is in the same\n",
        "    direction as the destination.\n",
        "    - Weather: sunny, rainy, or snowy\n",
        "    - Temperature: 30F, 55F, or 80F\n",
        "    - Time: 10AM, 2PM, or 6PM\n",
        "    - Passenger: alone, partner, kid(s), or friend(s)\n",
        "\n",
        "\n",
        "3. Coupon attributes\n",
        "    - time before it expires: 2 hours or one day"
      ]
    },
    {
      "cell_type": "code",
      "execution_count": 2,
      "metadata": {
        "id": "dzNoP3o__qRG"
      },
      "outputs": [],
      "source": [
        "import matplotlib.pyplot as plt\n",
        "import seaborn as sns\n",
        "import pandas as pd\n",
        "import numpy as np"
      ]
    },
    {
      "cell_type": "code",
      "source": [
        "# Load the drive helper\n",
        "from google.colab import drive\n",
        "drive.mount('/content/drive')\n",
        ""
      ],
      "metadata": {
        "colab": {
          "base_uri": "https://localhost:8080/"
        },
        "id": "yas8DGWiNEx4",
        "outputId": "775d61f0-2fb1-4cde-d204-02916d1509bd"
      },
      "execution_count": 3,
      "outputs": [
        {
          "output_type": "stream",
          "name": "stdout",
          "text": [
            "Mounted at /content/drive\n"
          ]
        }
      ]
    },
    {
      "cell_type": "markdown",
      "source": [
        "# New Section"
      ],
      "metadata": {
        "id": "aAqQluZAKChn"
      }
    },
    {
      "cell_type": "markdown",
      "metadata": {
        "id": "Ct8pI1uE_qRG"
      },
      "source": [
        "### Problems\n",
        "\n",
        "Use the prompts below to get started with your data analysis.  \n",
        "\n",
        "1. Read in the `coupons.csv` file.\n",
        "\n",
        "\n"
      ]
    },
    {
      "cell_type": "code",
      "execution_count": 4,
      "metadata": {
        "id": "X0vbffYg_qRH",
        "colab": {
          "base_uri": "https://localhost:8080/",
          "height": 342
        },
        "outputId": "f512ab45-99a8-4a23-c3a6-c29129fa8276"
      },
      "outputs": [
        {
          "output_type": "execute_result",
          "data": {
            "text/plain": [
              "       destination  passanger weather  temperature  time  \\\n",
              "0  No Urgent Place      Alone   Sunny           55   2PM   \n",
              "1  No Urgent Place  Friend(s)   Sunny           80  10AM   \n",
              "2  No Urgent Place  Friend(s)   Sunny           80  10AM   \n",
              "3  No Urgent Place  Friend(s)   Sunny           80   2PM   \n",
              "4  No Urgent Place  Friend(s)   Sunny           80   2PM   \n",
              "\n",
              "                  coupon expiration  gender age      maritalStatus  ...  \\\n",
              "0        Restaurant(<20)         1d  Female  21  Unmarried partner  ...   \n",
              "1           Coffee House         2h  Female  21  Unmarried partner  ...   \n",
              "2  Carry out & Take away         2h  Female  21  Unmarried partner  ...   \n",
              "3           Coffee House         2h  Female  21  Unmarried partner  ...   \n",
              "4           Coffee House         1d  Female  21  Unmarried partner  ...   \n",
              "\n",
              "   CoffeeHouse CarryAway RestaurantLessThan20 Restaurant20To50  \\\n",
              "0        never       NaN                  4~8              1~3   \n",
              "1        never       NaN                  4~8              1~3   \n",
              "2        never       NaN                  4~8              1~3   \n",
              "3        never       NaN                  4~8              1~3   \n",
              "4        never       NaN                  4~8              1~3   \n",
              "\n",
              "  toCoupon_GEQ5min toCoupon_GEQ15min toCoupon_GEQ25min direction_same  \\\n",
              "0                1                 0                 0              0   \n",
              "1                1                 0                 0              0   \n",
              "2                1                 1                 0              0   \n",
              "3                1                 1                 0              0   \n",
              "4                1                 1                 0              0   \n",
              "\n",
              "  direction_opp  Y  \n",
              "0             1  1  \n",
              "1             1  0  \n",
              "2             1  1  \n",
              "3             1  0  \n",
              "4             1  0  \n",
              "\n",
              "[5 rows x 26 columns]"
            ],
            "text/html": [
              "\n",
              "  <div id=\"df-fbb5e561-c8fb-4de6-9fe3-3bd52e2f6c1d\" class=\"colab-df-container\">\n",
              "    <div>\n",
              "<style scoped>\n",
              "    .dataframe tbody tr th:only-of-type {\n",
              "        vertical-align: middle;\n",
              "    }\n",
              "\n",
              "    .dataframe tbody tr th {\n",
              "        vertical-align: top;\n",
              "    }\n",
              "\n",
              "    .dataframe thead th {\n",
              "        text-align: right;\n",
              "    }\n",
              "</style>\n",
              "<table border=\"1\" class=\"dataframe\">\n",
              "  <thead>\n",
              "    <tr style=\"text-align: right;\">\n",
              "      <th></th>\n",
              "      <th>destination</th>\n",
              "      <th>passanger</th>\n",
              "      <th>weather</th>\n",
              "      <th>temperature</th>\n",
              "      <th>time</th>\n",
              "      <th>coupon</th>\n",
              "      <th>expiration</th>\n",
              "      <th>gender</th>\n",
              "      <th>age</th>\n",
              "      <th>maritalStatus</th>\n",
              "      <th>...</th>\n",
              "      <th>CoffeeHouse</th>\n",
              "      <th>CarryAway</th>\n",
              "      <th>RestaurantLessThan20</th>\n",
              "      <th>Restaurant20To50</th>\n",
              "      <th>toCoupon_GEQ5min</th>\n",
              "      <th>toCoupon_GEQ15min</th>\n",
              "      <th>toCoupon_GEQ25min</th>\n",
              "      <th>direction_same</th>\n",
              "      <th>direction_opp</th>\n",
              "      <th>Y</th>\n",
              "    </tr>\n",
              "  </thead>\n",
              "  <tbody>\n",
              "    <tr>\n",
              "      <th>0</th>\n",
              "      <td>No Urgent Place</td>\n",
              "      <td>Alone</td>\n",
              "      <td>Sunny</td>\n",
              "      <td>55</td>\n",
              "      <td>2PM</td>\n",
              "      <td>Restaurant(&lt;20)</td>\n",
              "      <td>1d</td>\n",
              "      <td>Female</td>\n",
              "      <td>21</td>\n",
              "      <td>Unmarried partner</td>\n",
              "      <td>...</td>\n",
              "      <td>never</td>\n",
              "      <td>NaN</td>\n",
              "      <td>4~8</td>\n",
              "      <td>1~3</td>\n",
              "      <td>1</td>\n",
              "      <td>0</td>\n",
              "      <td>0</td>\n",
              "      <td>0</td>\n",
              "      <td>1</td>\n",
              "      <td>1</td>\n",
              "    </tr>\n",
              "    <tr>\n",
              "      <th>1</th>\n",
              "      <td>No Urgent Place</td>\n",
              "      <td>Friend(s)</td>\n",
              "      <td>Sunny</td>\n",
              "      <td>80</td>\n",
              "      <td>10AM</td>\n",
              "      <td>Coffee House</td>\n",
              "      <td>2h</td>\n",
              "      <td>Female</td>\n",
              "      <td>21</td>\n",
              "      <td>Unmarried partner</td>\n",
              "      <td>...</td>\n",
              "      <td>never</td>\n",
              "      <td>NaN</td>\n",
              "      <td>4~8</td>\n",
              "      <td>1~3</td>\n",
              "      <td>1</td>\n",
              "      <td>0</td>\n",
              "      <td>0</td>\n",
              "      <td>0</td>\n",
              "      <td>1</td>\n",
              "      <td>0</td>\n",
              "    </tr>\n",
              "    <tr>\n",
              "      <th>2</th>\n",
              "      <td>No Urgent Place</td>\n",
              "      <td>Friend(s)</td>\n",
              "      <td>Sunny</td>\n",
              "      <td>80</td>\n",
              "      <td>10AM</td>\n",
              "      <td>Carry out &amp; Take away</td>\n",
              "      <td>2h</td>\n",
              "      <td>Female</td>\n",
              "      <td>21</td>\n",
              "      <td>Unmarried partner</td>\n",
              "      <td>...</td>\n",
              "      <td>never</td>\n",
              "      <td>NaN</td>\n",
              "      <td>4~8</td>\n",
              "      <td>1~3</td>\n",
              "      <td>1</td>\n",
              "      <td>1</td>\n",
              "      <td>0</td>\n",
              "      <td>0</td>\n",
              "      <td>1</td>\n",
              "      <td>1</td>\n",
              "    </tr>\n",
              "    <tr>\n",
              "      <th>3</th>\n",
              "      <td>No Urgent Place</td>\n",
              "      <td>Friend(s)</td>\n",
              "      <td>Sunny</td>\n",
              "      <td>80</td>\n",
              "      <td>2PM</td>\n",
              "      <td>Coffee House</td>\n",
              "      <td>2h</td>\n",
              "      <td>Female</td>\n",
              "      <td>21</td>\n",
              "      <td>Unmarried partner</td>\n",
              "      <td>...</td>\n",
              "      <td>never</td>\n",
              "      <td>NaN</td>\n",
              "      <td>4~8</td>\n",
              "      <td>1~3</td>\n",
              "      <td>1</td>\n",
              "      <td>1</td>\n",
              "      <td>0</td>\n",
              "      <td>0</td>\n",
              "      <td>1</td>\n",
              "      <td>0</td>\n",
              "    </tr>\n",
              "    <tr>\n",
              "      <th>4</th>\n",
              "      <td>No Urgent Place</td>\n",
              "      <td>Friend(s)</td>\n",
              "      <td>Sunny</td>\n",
              "      <td>80</td>\n",
              "      <td>2PM</td>\n",
              "      <td>Coffee House</td>\n",
              "      <td>1d</td>\n",
              "      <td>Female</td>\n",
              "      <td>21</td>\n",
              "      <td>Unmarried partner</td>\n",
              "      <td>...</td>\n",
              "      <td>never</td>\n",
              "      <td>NaN</td>\n",
              "      <td>4~8</td>\n",
              "      <td>1~3</td>\n",
              "      <td>1</td>\n",
              "      <td>1</td>\n",
              "      <td>0</td>\n",
              "      <td>0</td>\n",
              "      <td>1</td>\n",
              "      <td>0</td>\n",
              "    </tr>\n",
              "  </tbody>\n",
              "</table>\n",
              "<p>5 rows × 26 columns</p>\n",
              "</div>\n",
              "    <div class=\"colab-df-buttons\">\n",
              "\n",
              "  <div class=\"colab-df-container\">\n",
              "    <button class=\"colab-df-convert\" onclick=\"convertToInteractive('df-fbb5e561-c8fb-4de6-9fe3-3bd52e2f6c1d')\"\n",
              "            title=\"Convert this dataframe to an interactive table.\"\n",
              "            style=\"display:none;\">\n",
              "\n",
              "  <svg xmlns=\"http://www.w3.org/2000/svg\" height=\"24px\" viewBox=\"0 -960 960 960\">\n",
              "    <path d=\"M120-120v-720h720v720H120Zm60-500h600v-160H180v160Zm220 220h160v-160H400v160Zm0 220h160v-160H400v160ZM180-400h160v-160H180v160Zm440 0h160v-160H620v160ZM180-180h160v-160H180v160Zm440 0h160v-160H620v160Z\"/>\n",
              "  </svg>\n",
              "    </button>\n",
              "\n",
              "  <style>\n",
              "    .colab-df-container {\n",
              "      display:flex;\n",
              "      gap: 12px;\n",
              "    }\n",
              "\n",
              "    .colab-df-convert {\n",
              "      background-color: #E8F0FE;\n",
              "      border: none;\n",
              "      border-radius: 50%;\n",
              "      cursor: pointer;\n",
              "      display: none;\n",
              "      fill: #1967D2;\n",
              "      height: 32px;\n",
              "      padding: 0 0 0 0;\n",
              "      width: 32px;\n",
              "    }\n",
              "\n",
              "    .colab-df-convert:hover {\n",
              "      background-color: #E2EBFA;\n",
              "      box-shadow: 0px 1px 2px rgba(60, 64, 67, 0.3), 0px 1px 3px 1px rgba(60, 64, 67, 0.15);\n",
              "      fill: #174EA6;\n",
              "    }\n",
              "\n",
              "    .colab-df-buttons div {\n",
              "      margin-bottom: 4px;\n",
              "    }\n",
              "\n",
              "    [theme=dark] .colab-df-convert {\n",
              "      background-color: #3B4455;\n",
              "      fill: #D2E3FC;\n",
              "    }\n",
              "\n",
              "    [theme=dark] .colab-df-convert:hover {\n",
              "      background-color: #434B5C;\n",
              "      box-shadow: 0px 1px 3px 1px rgba(0, 0, 0, 0.15);\n",
              "      filter: drop-shadow(0px 1px 2px rgba(0, 0, 0, 0.3));\n",
              "      fill: #FFFFFF;\n",
              "    }\n",
              "  </style>\n",
              "\n",
              "    <script>\n",
              "      const buttonEl =\n",
              "        document.querySelector('#df-fbb5e561-c8fb-4de6-9fe3-3bd52e2f6c1d button.colab-df-convert');\n",
              "      buttonEl.style.display =\n",
              "        google.colab.kernel.accessAllowed ? 'block' : 'none';\n",
              "\n",
              "      async function convertToInteractive(key) {\n",
              "        const element = document.querySelector('#df-fbb5e561-c8fb-4de6-9fe3-3bd52e2f6c1d');\n",
              "        const dataTable =\n",
              "          await google.colab.kernel.invokeFunction('convertToInteractive',\n",
              "                                                    [key], {});\n",
              "        if (!dataTable) return;\n",
              "\n",
              "        const docLinkHtml = 'Like what you see? Visit the ' +\n",
              "          '<a target=\"_blank\" href=https://colab.research.google.com/notebooks/data_table.ipynb>data table notebook</a>'\n",
              "          + ' to learn more about interactive tables.';\n",
              "        element.innerHTML = '';\n",
              "        dataTable['output_type'] = 'display_data';\n",
              "        await google.colab.output.renderOutput(dataTable, element);\n",
              "        const docLink = document.createElement('div');\n",
              "        docLink.innerHTML = docLinkHtml;\n",
              "        element.appendChild(docLink);\n",
              "      }\n",
              "    </script>\n",
              "  </div>\n",
              "\n",
              "\n",
              "    <div id=\"df-d3c66ebc-00b3-485f-87fe-29e82baad4db\">\n",
              "      <button class=\"colab-df-quickchart\" onclick=\"quickchart('df-d3c66ebc-00b3-485f-87fe-29e82baad4db')\"\n",
              "                title=\"Suggest charts\"\n",
              "                style=\"display:none;\">\n",
              "\n",
              "<svg xmlns=\"http://www.w3.org/2000/svg\" height=\"24px\"viewBox=\"0 0 24 24\"\n",
              "     width=\"24px\">\n",
              "    <g>\n",
              "        <path d=\"M19 3H5c-1.1 0-2 .9-2 2v14c0 1.1.9 2 2 2h14c1.1 0 2-.9 2-2V5c0-1.1-.9-2-2-2zM9 17H7v-7h2v7zm4 0h-2V7h2v10zm4 0h-2v-4h2v4z\"/>\n",
              "    </g>\n",
              "</svg>\n",
              "      </button>\n",
              "\n",
              "<style>\n",
              "  .colab-df-quickchart {\n",
              "      --bg-color: #E8F0FE;\n",
              "      --fill-color: #1967D2;\n",
              "      --hover-bg-color: #E2EBFA;\n",
              "      --hover-fill-color: #174EA6;\n",
              "      --disabled-fill-color: #AAA;\n",
              "      --disabled-bg-color: #DDD;\n",
              "  }\n",
              "\n",
              "  [theme=dark] .colab-df-quickchart {\n",
              "      --bg-color: #3B4455;\n",
              "      --fill-color: #D2E3FC;\n",
              "      --hover-bg-color: #434B5C;\n",
              "      --hover-fill-color: #FFFFFF;\n",
              "      --disabled-bg-color: #3B4455;\n",
              "      --disabled-fill-color: #666;\n",
              "  }\n",
              "\n",
              "  .colab-df-quickchart {\n",
              "    background-color: var(--bg-color);\n",
              "    border: none;\n",
              "    border-radius: 50%;\n",
              "    cursor: pointer;\n",
              "    display: none;\n",
              "    fill: var(--fill-color);\n",
              "    height: 32px;\n",
              "    padding: 0;\n",
              "    width: 32px;\n",
              "  }\n",
              "\n",
              "  .colab-df-quickchart:hover {\n",
              "    background-color: var(--hover-bg-color);\n",
              "    box-shadow: 0 1px 2px rgba(60, 64, 67, 0.3), 0 1px 3px 1px rgba(60, 64, 67, 0.15);\n",
              "    fill: var(--button-hover-fill-color);\n",
              "  }\n",
              "\n",
              "  .colab-df-quickchart-complete:disabled,\n",
              "  .colab-df-quickchart-complete:disabled:hover {\n",
              "    background-color: var(--disabled-bg-color);\n",
              "    fill: var(--disabled-fill-color);\n",
              "    box-shadow: none;\n",
              "  }\n",
              "\n",
              "  .colab-df-spinner {\n",
              "    border: 2px solid var(--fill-color);\n",
              "    border-color: transparent;\n",
              "    border-bottom-color: var(--fill-color);\n",
              "    animation:\n",
              "      spin 1s steps(1) infinite;\n",
              "  }\n",
              "\n",
              "  @keyframes spin {\n",
              "    0% {\n",
              "      border-color: transparent;\n",
              "      border-bottom-color: var(--fill-color);\n",
              "      border-left-color: var(--fill-color);\n",
              "    }\n",
              "    20% {\n",
              "      border-color: transparent;\n",
              "      border-left-color: var(--fill-color);\n",
              "      border-top-color: var(--fill-color);\n",
              "    }\n",
              "    30% {\n",
              "      border-color: transparent;\n",
              "      border-left-color: var(--fill-color);\n",
              "      border-top-color: var(--fill-color);\n",
              "      border-right-color: var(--fill-color);\n",
              "    }\n",
              "    40% {\n",
              "      border-color: transparent;\n",
              "      border-right-color: var(--fill-color);\n",
              "      border-top-color: var(--fill-color);\n",
              "    }\n",
              "    60% {\n",
              "      border-color: transparent;\n",
              "      border-right-color: var(--fill-color);\n",
              "    }\n",
              "    80% {\n",
              "      border-color: transparent;\n",
              "      border-right-color: var(--fill-color);\n",
              "      border-bottom-color: var(--fill-color);\n",
              "    }\n",
              "    90% {\n",
              "      border-color: transparent;\n",
              "      border-bottom-color: var(--fill-color);\n",
              "    }\n",
              "  }\n",
              "</style>\n",
              "\n",
              "      <script>\n",
              "        async function quickchart(key) {\n",
              "          const quickchartButtonEl =\n",
              "            document.querySelector('#' + key + ' button');\n",
              "          quickchartButtonEl.disabled = true;  // To prevent multiple clicks.\n",
              "          quickchartButtonEl.classList.add('colab-df-spinner');\n",
              "          try {\n",
              "            const charts = await google.colab.kernel.invokeFunction(\n",
              "                'suggestCharts', [key], {});\n",
              "          } catch (error) {\n",
              "            console.error('Error during call to suggestCharts:', error);\n",
              "          }\n",
              "          quickchartButtonEl.classList.remove('colab-df-spinner');\n",
              "          quickchartButtonEl.classList.add('colab-df-quickchart-complete');\n",
              "        }\n",
              "        (() => {\n",
              "          let quickchartButtonEl =\n",
              "            document.querySelector('#df-d3c66ebc-00b3-485f-87fe-29e82baad4db button');\n",
              "          quickchartButtonEl.style.display =\n",
              "            google.colab.kernel.accessAllowed ? 'block' : 'none';\n",
              "        })();\n",
              "      </script>\n",
              "    </div>\n",
              "\n",
              "    </div>\n",
              "  </div>\n"
            ],
            "application/vnd.google.colaboratory.intrinsic+json": {
              "type": "dataframe",
              "variable_name": "df"
            }
          },
          "metadata": {},
          "execution_count": 4
        }
      ],
      "source": [
        "# Load the dataset\n",
        "df = pd.read_csv('/content/drive/MyDrive/Colab Notebooks/Practical_1/coupons.csv')\n",
        "df.head()"
      ]
    },
    {
      "cell_type": "markdown",
      "metadata": {
        "id": "GcDs78ZH_qRH"
      },
      "source": [
        "2. Investigate the dataset for missing or problematic data."
      ]
    },
    {
      "cell_type": "code",
      "execution_count": 5,
      "metadata": {
        "id": "6CwL6oWj_qRH",
        "colab": {
          "base_uri": "https://localhost:8080/"
        },
        "outputId": "b314a395-de00-41ab-f063-96b515e474ed"
      },
      "outputs": [
        {
          "output_type": "stream",
          "name": "stdout",
          "text": [
            "\n",
            "=== Missing Values per Column ===\n",
            "destination                 0\n",
            "passanger                   0\n",
            "weather                     0\n",
            "temperature                 0\n",
            "time                        0\n",
            "coupon                      0\n",
            "expiration                  0\n",
            "gender                      0\n",
            "age                         0\n",
            "maritalStatus               0\n",
            "has_children                0\n",
            "education                   0\n",
            "occupation                  0\n",
            "income                      0\n",
            "car                     12576\n",
            "Bar                       107\n",
            "CoffeeHouse               217\n",
            "CarryAway                 151\n",
            "RestaurantLessThan20      130\n",
            "Restaurant20To50          189\n",
            "toCoupon_GEQ5min            0\n",
            "toCoupon_GEQ15min           0\n",
            "toCoupon_GEQ25min           0\n",
            "direction_same              0\n",
            "direction_opp               0\n",
            "Y                           0\n",
            "dtype: int64\n"
          ]
        }
      ],
      "source": [
        "print(\"\\n=== Missing Values per Column ===\")\n",
        "print(df.isnull().sum())"
      ]
    },
    {
      "cell_type": "code",
      "source": [
        "print(df['Bar'].value_counts())"
      ],
      "metadata": {
        "colab": {
          "base_uri": "https://localhost:8080/"
        },
        "id": "wQAZUFDTPJuJ",
        "outputId": "67562c5c-2c66-48a9-a966-87da7bfe87b5"
      },
      "execution_count": 6,
      "outputs": [
        {
          "output_type": "stream",
          "name": "stdout",
          "text": [
            "Bar\n",
            "never    5197\n",
            "less1    3482\n",
            "1~3      2473\n",
            "4~8      1076\n",
            "gt8       349\n",
            "Name: count, dtype: int64\n"
          ]
        }
      ]
    },
    {
      "cell_type": "markdown",
      "metadata": {
        "id": "bSdVSpYB_qRH"
      },
      "source": [
        "3. Decide what to do about your missing data -- drop, replace, other..."
      ]
    },
    {
      "cell_type": "code",
      "execution_count": 7,
      "metadata": {
        "id": "tyvoAC5F_qRI"
      },
      "outputs": [],
      "source": [
        "# Keep missing data"
      ]
    },
    {
      "cell_type": "markdown",
      "metadata": {
        "id": "YE6oJbXd_qRI"
      },
      "source": [
        "4. What proportion of the total observations chose to accept the coupon?\n",
        "\n"
      ]
    },
    {
      "cell_type": "code",
      "execution_count": 8,
      "metadata": {
        "id": "86GGqBTv_qRI",
        "colab": {
          "base_uri": "https://localhost:8080/"
        },
        "outputId": "8336a79e-0b1e-4718-d6eb-d66730dfd37d"
      },
      "outputs": [
        {
          "output_type": "stream",
          "name": "stdout",
          "text": [
            "Proportion of people who accepted the coupon: 56.84%\n"
          ]
        }
      ],
      "source": [
        "# Calculate proportion\n",
        "acceptance_rate = df['Y'].mean()\n",
        "\n",
        "# Print result as a percentage\n",
        "print(f\"Proportion of people who accepted the coupon: {acceptance_rate:.2%}\")"
      ]
    },
    {
      "cell_type": "markdown",
      "metadata": {
        "id": "vflz0DoE_qRI"
      },
      "source": [
        "5. Use a bar plot to visualize the `coupon` column."
      ]
    },
    {
      "cell_type": "code",
      "execution_count": 9,
      "metadata": {
        "id": "dHFh3E45_qRI",
        "colab": {
          "base_uri": "https://localhost:8080/",
          "height": 694
        },
        "outputId": "7ce7a65c-2b44-4ae1-f4ec-e177feddb4b4"
      },
      "outputs": [
        {
          "output_type": "stream",
          "name": "stderr",
          "text": [
            "<ipython-input-9-488230480>:8: FutureWarning: \n",
            "\n",
            "Passing `palette` without assigning `hue` is deprecated and will be removed in v0.14.0. Assign the `x` variable to `hue` and set `legend=False` for the same effect.\n",
            "\n",
            "  sns.barplot(data=acceptance_by_coupon, x='coupon', y='Accepted (%)', palette='viridis')\n"
          ]
        },
        {
          "output_type": "display_data",
          "data": {
            "text/plain": [
              "<Figure size 1000x600 with 1 Axes>"
            ],
            "image/png": "[encoded data removed]"
          },
          "metadata": {}
        }
      ],
      "source": [
        "# Calculate acceptance rate by coupon type\n",
        "acceptance_by_coupon = pd.crosstab(df['coupon'], df['Y'], normalize='index') * 100\n",
        "acceptance_by_coupon.columns = ['Not Accepted (%)', 'Accepted (%)']\n",
        "acceptance_by_coupon = acceptance_by_coupon.sort_values('Accepted (%)', ascending=False).reset_index()\n",
        "\n",
        "# Plot\n",
        "plt.figure(figsize=(10, 6))\n",
        "sns.barplot(data=acceptance_by_coupon, x='coupon', y='Accepted (%)', palette='viridis')\n",
        "\n",
        "plt.title('Coupon Acceptance Rate by Coupon Type')\n",
        "plt.ylabel('Acceptance Rate (%)')\n",
        "plt.xlabel('Coupon Type')\n",
        "plt.xticks(rotation=45)\n",
        "plt.tight_layout()\n",
        "plt.show()"
      ]
    },
    {
      "cell_type": "markdown",
      "metadata": {
        "id": "Qw4lCyx2_qRI"
      },
      "source": [
        "6. Use a histogram to visualize the temperature column."
      ]
    },
    {
      "cell_type": "code",
      "execution_count": 10,
      "metadata": {
        "id": "Yg9Anv71_qRI",
        "colab": {
          "base_uri": "https://localhost:8080/",
          "height": 507
        },
        "outputId": "47791c77-67e5-4e2d-b98b-484c8c6ede6c"
      },
      "outputs": [
        {
          "output_type": "display_data",
          "data": {
            "text/plain": [
              "<Figure size 800x500 with 1 Axes>"
            ],
            "image/png": "[encoded data removed]"
          },
          "metadata": {}
        }
      ],
      "source": [
        "# Plot histogram\n",
        "plt.figure(figsize=(8, 5))\n",
        "sns.histplot(data=df, x='temperature', bins=3, kde=True, color='skyblue')\n",
        "\n",
        "plt.title('Temperature Distribution')\n",
        "plt.xlabel('Temperature (°F)')\n",
        "plt.ylabel('Frequency')\n",
        "plt.tight_layout()\n",
        "plt.show()"
      ]
    },
    {
      "cell_type": "markdown",
      "metadata": {
        "id": "FupfgeJk_qRJ"
      },
      "source": [
        "**Investigating the Bar Coupons**\n",
        "\n",
        "Now, we will lead you through an exploration of just the bar related coupons.  \n",
        "\n",
        "1. Create a new `DataFrame` that contains just the bar coupons.\n"
      ]
    },
    {
      "cell_type": "code",
      "execution_count": 11,
      "metadata": {
        "id": "tMBlWuGq_qRJ",
        "colab": {
          "base_uri": "https://localhost:8080/"
        },
        "outputId": "f9567309-2fc6-4ff0-d948-11e8c1470ef6"
      },
      "outputs": [
        {
          "output_type": "stream",
          "name": "stdout",
          "text": [
            "        destination  passanger weather  temperature  time coupon expiration  \\\n",
            "9   No Urgent Place     Kid(s)   Sunny           80  10AM    Bar         1d   \n",
            "13             Home      Alone   Sunny           55   6PM    Bar         1d   \n",
            "17             Work      Alone   Sunny           55   7AM    Bar         1d   \n",
            "24  No Urgent Place  Friend(s)   Sunny           80  10AM    Bar         1d   \n",
            "35             Home      Alone   Sunny           55   6PM    Bar         1d   \n",
            "\n",
            "    gender age      maritalStatus  ...  CoffeeHouse CarryAway  \\\n",
            "9   Female  21  Unmarried partner  ...        never       NaN   \n",
            "13  Female  21  Unmarried partner  ...        never       NaN   \n",
            "17  Female  21  Unmarried partner  ...        never       NaN   \n",
            "24    Male  21             Single  ...        less1       4~8   \n",
            "35    Male  21             Single  ...        less1       4~8   \n",
            "\n",
            "   RestaurantLessThan20 Restaurant20To50 toCoupon_GEQ5min toCoupon_GEQ15min  \\\n",
            "9                   4~8              1~3                1                 1   \n",
            "13                  4~8              1~3                1                 0   \n",
            "17                  4~8              1~3                1                 1   \n",
            "24                  4~8            less1                1                 0   \n",
            "35                  4~8            less1                1                 0   \n",
            "\n",
            "   toCoupon_GEQ25min direction_same direction_opp  Y  \n",
            "9                  0              0             1  0  \n",
            "13                 0              1             0  1  \n",
            "17                 1              0             1  0  \n",
            "24                 0              0             1  1  \n",
            "35                 0              1             0  1  \n",
            "\n",
            "[5 rows x 26 columns]\n",
            "Total rows with 'Bar' coupon: 2017\n"
          ]
        }
      ],
      "source": [
        "# Filter rows where coupon is 'Bar'\n",
        "bar_coupons_df = df[df['coupon'] == 'Bar']\n",
        "\n",
        "# Optional: Preview the result\n",
        "print(bar_coupons_df.head())\n",
        "print(f\"Total rows with 'Bar' coupon: {len(bar_coupons_df)}\")"
      ]
    },
    {
      "cell_type": "markdown",
      "metadata": {
        "id": "8ue6uCqf_qRJ"
      },
      "source": [
        "2. What proportion of bar coupons were accepted?\n"
      ]
    },
    {
      "cell_type": "code",
      "execution_count": 12,
      "metadata": {
        "id": "hSdte8Mi_qRK",
        "colab": {
          "base_uri": "https://localhost:8080/"
        },
        "outputId": "bd634154-4c79-4b50-823e-0d222e6ccff2"
      },
      "outputs": [
        {
          "output_type": "stream",
          "name": "stdout",
          "text": [
            "Proportion of accepted bar coupons: 0.41\n"
          ]
        }
      ],
      "source": [
        "# Filter rows where coupon is 'Bar'\n",
        "bar_coupons_df = df[df['coupon'] == 'Bar']\n",
        "accepted_bar_coupons = bar_coupons_df[bar_coupons_df['Y'] == 1]  # Filter for accepted coupons\n",
        "\n",
        "# Calculate the proportion\n",
        "proportion_accepted = len(accepted_bar_coupons) / len(bar_coupons_df)\n",
        "print(f\"Proportion of accepted bar coupons: {proportion_accepted:.2f}\")\n"
      ]
    },
    {
      "cell_type": "markdown",
      "metadata": {
        "id": "85nA_iEi_qRK"
      },
      "source": [
        "3. Compare the acceptance rate between those who went to a bar 3 or fewer times a month to those who went more.\n"
      ]
    },
    {
      "cell_type": "code",
      "execution_count": 13,
      "metadata": {
        "id": "LBOrN-XM_qRK",
        "colab": {
          "base_uri": "https://localhost:8080/"
        },
        "outputId": "6dfab8b1-ccec-44a7-df7a-328225d77278"
      },
      "outputs": [
        {
          "output_type": "stream",
          "name": "stdout",
          "text": [
            "  Bar Visit Frequency  Acceptance Rate (%)\n",
            "0           >3x/month            76.884422\n",
            "1               Other            38.095238\n",
            "2           ≤3x/month            37.061770\n"
          ]
        },
        {
          "output_type": "stream",
          "name": "stderr",
          "text": [
            "<ipython-input-13-1202022133>:6: SettingWithCopyWarning: \n",
            "A value is trying to be set on a copy of a slice from a DataFrame.\n",
            "Try using .loc[row_indexer,col_indexer] = value instead\n",
            "\n",
            "See the caveats in the documentation: https://pandas.pydata.org/pandas-docs/stable/user_guide/indexing.html#returning-a-view-versus-a-copy\n",
            "  bar_coupons_df['bar_visit_group'] = bar_coupons_df['Bar'].apply(\n"
          ]
        }
      ],
      "source": [
        "# Define frequency categories\n",
        "low_freq = ['never', 'less1', '1~3']\n",
        "high_freq = ['4~8', 'gt8']\n",
        "\n",
        "# Create a group column\n",
        "bar_coupons_df['bar_visit_group'] = bar_coupons_df['Bar'].apply(\n",
        "    lambda x: '≤3x/month' if x in low_freq else ('>3x/month' if x in high_freq else 'Other')\n",
        ")\n",
        "\n",
        "# Filter to just the two groups\n",
        "df_filtered = bar_coupons_df[bar_coupons_df['bar_visit_group'].isin(['≤3x/month', '>3x/month'])]\n",
        "\n",
        "# Calculate acceptance rate per group\n",
        "acceptance_rate = bar_coupons_df.groupby('bar_visit_group')['Y'].mean().reset_index()\n",
        "acceptance_rate['Y'] = acceptance_rate['Y'] * 100  # Convert to %\n",
        "\n",
        "# Rename columns for clarity\n",
        "acceptance_rate.columns = ['Bar Visit Frequency', 'Acceptance Rate (%)']\n",
        "\n",
        "# Display result\n",
        "print(acceptance_rate)"
      ]
    },
    {
      "cell_type": "markdown",
      "metadata": {
        "id": "RBgcQwH4_qRK"
      },
      "source": [
        "4. Compare the acceptance rate between drivers who go to a bar more than once a month and are over the age of 25 to the all others.  Is there a difference?\n"
      ]
    },
    {
      "cell_type": "code",
      "execution_count": 14,
      "metadata": {
        "id": "bf28bbeX_qRK",
        "colab": {
          "base_uri": "https://localhost:8080/"
        },
        "outputId": "04e51c63-798f-468a-8816-a97f9fea9b43"
      },
      "outputs": [
        {
          "output_type": "stream",
          "name": "stdout",
          "text": [
            "             Group  Acceptance Rate (%)\n",
            "0            Other            55.354800\n",
            "1  Over25 & Bar>1x            62.153403\n"
          ]
        }
      ],
      "source": [
        "# Load dataset\n",
        "df = pd.read_csv('/content/drive/MyDrive/Colab Notebooks/Practical_1/coupons.csv')\n",
        "\n",
        "# Define age filtering logic\n",
        "def is_over_25(age_str):\n",
        "    if age_str == 'below21':\n",
        "        return False\n",
        "    elif age_str in ['21', '21-25']:\n",
        "        return False\n",
        "    else:\n",
        "        return True\n",
        "\n",
        "# Define bar frequency logic\n",
        "def bar_more_than_once_per_month(freq):\n",
        "    return freq in ['1~3', '4~8', 'gt8']\n",
        "\n",
        "# Apply filters\n",
        "df['target_group'] = df.apply(\n",
        "    lambda row: 'Over25 & Bar>1x' if is_over_25(row['age']) and bar_more_than_once_per_month(row['Bar']) else 'Other',\n",
        "    axis=1\n",
        ")\n",
        "\n",
        "# Calculate acceptance rate\n",
        "acceptance_comparison = df.groupby('target_group')['Y'].mean().reset_index()\n",
        "acceptance_comparison['Y'] = acceptance_comparison['Y'] * 100  # Convert to %\n",
        "\n",
        "# Rename columns for readability\n",
        "acceptance_comparison.columns = ['Group', 'Acceptance Rate (%)']\n",
        "\n",
        "# Show result\n",
        "print(acceptance_comparison)\n"
      ]
    },
    {
      "cell_type": "markdown",
      "metadata": {
        "id": "S4RKT4PJ_qRK"
      },
      "source": [
        "5. Use the same process to compare the acceptance rate between drivers who go to bars more than once a month and had passengers that were not a kid and had occupations other than farming, fishing, or forestry.\n"
      ]
    },
    {
      "cell_type": "code",
      "execution_count": 15,
      "metadata": {
        "id": "sENaI2Tg_qRK",
        "colab": {
          "base_uri": "https://localhost:8080/"
        },
        "outputId": "5bfb7ce7-de22-411d-a4a8-40bffa443a4b"
      },
      "outputs": [
        {
          "output_type": "stream",
          "name": "stdout",
          "text": [
            "                        Group  Acceptance Rate (%)\n",
            "0  Bar>1x + NoKids + Non-Farm            62.310606\n",
            "1                       Other            54.595016\n"
          ]
        }
      ],
      "source": [
        "# Load dataset\n",
        "df = pd.read_csv('/content/drive/MyDrive/Colab Notebooks/Practical_1/coupons.csv')\n",
        "\n",
        "# Define filters\n",
        "def qualifies(row):\n",
        "    bar_ok = row['Bar'] in ['1~3', '4~8', 'gt8']\n",
        "    passenger_ok = row['passanger'].lower() != 'kid(s)'\n",
        "    occupation_ok = row['occupation'].lower() != 'farming fishing & forestry'\n",
        "    return bar_ok and passenger_ok and occupation_ok\n",
        "\n",
        "# Apply group labeling\n",
        "df['target_group'] = df.apply(\n",
        "    lambda row: 'Bar>1x + NoKids + Non-Farm' if qualifies(row) else 'Other',\n",
        "    axis=1\n",
        ")\n",
        "\n",
        "# Calculate acceptance rate\n",
        "acceptance_comparison = df.groupby('target_group')['Y'].mean().reset_index()\n",
        "acceptance_comparison['Y'] = acceptance_comparison['Y'] * 100  # Convert to %\n",
        "\n",
        "# Rename for clarity\n",
        "acceptance_comparison.columns = ['Group', 'Acceptance Rate (%)']\n",
        "\n",
        "# Display result\n",
        "print(acceptance_comparison)\n"
      ]
    },
    {
      "cell_type": "markdown",
      "metadata": {
        "id": "n2LIUTil_qRK"
      },
      "source": [
        "6. Compare the acceptance rates between those drivers who:\n",
        "\n",
        "- go to bars more than once a month, had passengers that were not a kid, and were not widowed *OR*\n",
        "- go to bars more than once a month and are under the age of 30 *OR*\n",
        "- go to cheap restaurants more than 4 times a month and income is less than 50K.\n",
        "\n"
      ]
    },
    {
      "cell_type": "code",
      "execution_count": 16,
      "metadata": {
        "id": "aK_wEzx7_qRK",
        "colab": {
          "base_uri": "https://localhost:8080/"
        },
        "outputId": "b2c8e52c-2950-48b4-d99e-8d76168210ba"
      },
      "outputs": [
        {
          "output_type": "stream",
          "name": "stdout",
          "text": [
            "          Group  Acceptance Rate (%)\n",
            "0         Other             54.20211\n",
            "1  Target Group             62.86527\n"
          ]
        }
      ],
      "source": [
        "# Load data\n",
        "df = pd.read_csv('/content/drive/MyDrive/Colab Notebooks/Practical_1/coupons.csv')\n",
        "\n",
        "# Define helper functions\n",
        "def is_under_30(age):\n",
        "    return age in ['below21', '21', '21-25', '26-30']\n",
        "\n",
        "def bar_more_than_once(freq):\n",
        "    return freq in ['1~3', '4~8', 'gt8']\n",
        "\n",
        "def cheap_rest_more_than_4(freq):\n",
        "    return freq in ['4~8', 'gt8']\n",
        "\n",
        "def income_below_50k(income):\n",
        "    return income in ['Less than $12500', '$12500 - $24999', '$25000 - $37499', '$37500 - $49999']\n",
        "\n",
        "# Define logic for group membership\n",
        "def is_in_target_group(row):\n",
        "    bar_freq = bar_more_than_once(row['Bar'])\n",
        "    passenger_not_kid = row['passanger'].lower() != 'kid(s)'\n",
        "    marital_not_widowed = row['maritalStatus'].lower() != 'widowed'\n",
        "    age_under_30 = is_under_30(row['age'])\n",
        "    cheap_rest = cheap_rest_more_than_4(row['Restaurant20To50'])\n",
        "    low_income = income_below_50k(row['income'])\n",
        "\n",
        "    cond1 = bar_freq and passenger_not_kid and marital_not_widowed\n",
        "    cond2 = bar_freq and age_under_30\n",
        "    cond3 = cheap_rest and low_income\n",
        "\n",
        "    return cond1 or cond2 or cond3\n",
        "\n",
        "# Apply the classification\n",
        "df['group'] = df.apply(lambda row: 'Target Group' if is_in_target_group(row) else 'Other', axis=1)\n",
        "\n",
        "# Calculate acceptance rate\n",
        "result = df.groupby('group')['Y'].mean().reset_index()\n",
        "result['Y'] = result['Y'] * 100  # convert to percent\n",
        "result.columns = ['Group', 'Acceptance Rate (%)']\n",
        "\n",
        "# Display result\n",
        "print(result)"
      ]
    },
    {
      "cell_type": "markdown",
      "metadata": {
        "id": "v3fL3QkO_qRK"
      },
      "source": [
        "7.  Based on these observations, what do you hypothesize about drivers who accepted the bar coupons?"
      ]
    },
    {
      "cell_type": "markdown",
      "source": [
        "\n",
        "**1. They are socially active**\n",
        "Drivers who go to bars more than once a month are significantly more likely to accept bar coupons. This suggests they see real value in these offers and are already frequenting such venues.\n",
        "\n",
        "**2. They are younger**\n",
        "Drivers under age 30 had higher acceptance rates. This group may be more spontaneous, cost-conscious, and open to trying promotions or experiences.\n",
        "\n",
        "**3. They are not widowed and likely more socially engaged**\n",
        "Widowed drivers had lower acceptance rates. Drivers who are not widowed may be more likely to go out socially and thus find bar coupons more appealing.\n",
        "\n",
        "**4. They do not usually drive with kids**\n",
        "Drivers with non-kid passengers (friends, partners) accepted bar coupons more. This aligns with the assumption that they are going out for leisure, not family-oriented trips.\n",
        "\n",
        "**5. They may be value-seeking or lower-income**\n",
        "Those who frequent cheap restaurants and earn under $50K also had higher acceptance rates. This supports the idea that price-sensitive drivers are more likely to use discounts like bar coupons."
      ],
      "metadata": {
        "id": "n2OpGK27w-Ba"
      }
    },
    {
      "cell_type": "markdown",
      "metadata": {
        "id": "r4Hu1zOb_qRL"
      },
      "source": [
        "### Independent Investigation - Coffee House Coupons\n",
        "\n",
        "Using the bar coupon example as motivation, you are to explore one of the other coupon groups and try to determine the characteristics of passengers who accept the coupons.  "
      ]
    },
    {
      "cell_type": "code",
      "execution_count": 17,
      "metadata": {
        "id": "0c71cQhu_qRL",
        "colab": {
          "base_uri": "https://localhost:8080/"
        },
        "outputId": "3f03fae5-5a8d-4799-b6cb-28c75f7e8f6a"
      },
      "outputs": [
        {
          "output_type": "stream",
          "name": "stdout",
          "text": [
            "CoffeeHouse\n",
            "less1    3385\n",
            "1~3      3225\n",
            "never    2962\n",
            "4~8      1784\n",
            "gt8      1111\n",
            "Name: count, dtype: int64\n"
          ]
        }
      ],
      "source": [
        "print(df['CoffeeHouse'].value_counts())"
      ]
    },
    {
      "cell_type": "code",
      "execution_count": 18,
      "metadata": {
        "id": "QEsBkvIN_qRL",
        "colab": {
          "base_uri": "https://localhost:8080/"
        },
        "outputId": "1badc931-f021-403e-8e06-22a722587364"
      },
      "outputs": [
        {
          "output_type": "stream",
          "name": "stdout",
          "text": [
            "        destination  passanger weather  temperature  time        coupon  \\\n",
            "1   No Urgent Place  Friend(s)   Sunny           80  10AM  Coffee House   \n",
            "3   No Urgent Place  Friend(s)   Sunny           80   2PM  Coffee House   \n",
            "4   No Urgent Place  Friend(s)   Sunny           80   2PM  Coffee House   \n",
            "12  No Urgent Place     Kid(s)   Sunny           55   6PM  Coffee House   \n",
            "15             Home      Alone   Sunny           80   6PM  Coffee House   \n",
            "\n",
            "   expiration  gender age      maritalStatus  ...  CarryAway  \\\n",
            "1          2h  Female  21  Unmarried partner  ...        NaN   \n",
            "3          2h  Female  21  Unmarried partner  ...        NaN   \n",
            "4          1d  Female  21  Unmarried partner  ...        NaN   \n",
            "12         2h  Female  21  Unmarried partner  ...        NaN   \n",
            "15         2h  Female  21  Unmarried partner  ...        NaN   \n",
            "\n",
            "   RestaurantLessThan20 Restaurant20To50 toCoupon_GEQ5min toCoupon_GEQ15min  \\\n",
            "1                   4~8              1~3                1                 0   \n",
            "3                   4~8              1~3                1                 1   \n",
            "4                   4~8              1~3                1                 1   \n",
            "12                  4~8              1~3                1                 1   \n",
            "15                  4~8              1~3                1                 0   \n",
            "\n",
            "   toCoupon_GEQ25min direction_same direction_opp  Y  group  \n",
            "1                  0              0             1  0  Other  \n",
            "3                  0              0             1  0  Other  \n",
            "4                  0              0             1  0  Other  \n",
            "12                 0              0             1  1  Other  \n",
            "15                 0              0             1  0  Other  \n",
            "\n",
            "[5 rows x 27 columns]\n",
            "Total rows with 'Coffee House' coupon: 3996\n"
          ]
        }
      ],
      "source": [
        "# Filter rows where coupon is 'CoffeeHouse'\n",
        "CoffeeHouse_coupons_df = df[df['coupon'] == 'Coffee House']\n",
        "\n",
        "# Optional: Preview the result\n",
        "print(CoffeeHouse_coupons_df.head())\n",
        "print(f\"Total rows with 'Coffee House' coupon: {len(CoffeeHouse_coupons_df)}\")"
      ]
    },
    {
      "cell_type": "code",
      "execution_count": 19,
      "metadata": {
        "colab": {
          "base_uri": "https://localhost:8080/"
        },
        "outputId": "9d5c771c-9c48-421b-80d1-136cb0dfd0e7",
        "id": "bGaoU8Pm7x85"
      },
      "outputs": [
        {
          "output_type": "stream",
          "name": "stdout",
          "text": [
            "Proportion of accepted Coffee House coupons: 0.50\n"
          ]
        }
      ],
      "source": [
        "# Filter rows where coupon is 'Coffee House'\n",
        "CH_coupons_df = df[df['coupon'] == 'Coffee House']\n",
        "accepted_CH_coupons = CH_coupons_df[CH_coupons_df['Y'] == 1]  # Filter for accepted coupons\n",
        "\n",
        "# Calculate the proportion\n",
        "proportion_accepted = len(accepted_CH_coupons) / len(CH_coupons_df)\n",
        "print(f\"Proportion of accepted Coffee House coupons: {proportion_accepted:.2f}\")"
      ]
    },
    {
      "cell_type": "code",
      "execution_count": 20,
      "metadata": {
        "id": "RrqUWn7d_qRL",
        "colab": {
          "base_uri": "https://localhost:8080/"
        },
        "outputId": "a2330d14-ba12-4535-9ea4-a41540966842"
      },
      "outputs": [
        {
          "output_type": "stream",
          "name": "stdout",
          "text": [
            "  Coffee House Visit Frequency  Acceptance Rate (%)\n",
            "0                    >3x/month            67.500000\n",
            "1                        Other            45.833333\n",
            "2                    ≤3x/month            44.940867\n"
          ]
        },
        {
          "output_type": "stream",
          "name": "stderr",
          "text": [
            "<ipython-input-20-2614174242>:6: SettingWithCopyWarning: \n",
            "A value is trying to be set on a copy of a slice from a DataFrame.\n",
            "Try using .loc[row_indexer,col_indexer] = value instead\n",
            "\n",
            "See the caveats in the documentation: https://pandas.pydata.org/pandas-docs/stable/user_guide/indexing.html#returning-a-view-versus-a-copy\n",
            "  CH_coupons_df['CH_visit_group'] = CH_coupons_df['CoffeeHouse'].apply(\n"
          ]
        }
      ],
      "source": [
        "# Define frequency categories\n",
        "low_freq = ['never', 'less1', '1~3']\n",
        "high_freq = ['4~8', 'gt8']\n",
        "\n",
        "# Create a group column\n",
        "CH_coupons_df['CH_visit_group'] = CH_coupons_df['CoffeeHouse'].apply(\n",
        "    lambda x: '≤3x/month' if x in low_freq else ('>3x/month' if x in high_freq else 'Other')\n",
        ")\n",
        "\n",
        "# Filter to just the two groups\n",
        "df_filtered = CH_coupons_df[CH_coupons_df['CH_visit_group'].isin(['≤3x/month', '>3x/month'])]\n",
        "\n",
        "# Calculate acceptance rate per group\n",
        "acceptance_rate = CH_coupons_df.groupby('CH_visit_group')['Y'].mean().reset_index()\n",
        "acceptance_rate['Y'] = acceptance_rate['Y'] * 100  # Convert to %\n",
        "\n",
        "# Rename columns for clarity\n",
        "acceptance_rate.columns = ['Coffee House Visit Frequency', 'Acceptance Rate (%)']\n",
        "\n",
        "# Display result\n",
        "print(acceptance_rate)"
      ]
    },
    {
      "cell_type": "code",
      "execution_count": 23,
      "metadata": {
        "id": "_oykf8YP_qRL",
        "colab": {
          "base_uri": "https://localhost:8080/"
        },
        "outputId": "d90ead47-4312-4d18-bfe4-dc8eb34f5cc4"
      },
      "outputs": [
        {
          "output_type": "stream",
          "name": "stdout",
          "text": [
            "            Group  Acceptance Rate (%)\n",
            "0           Other            53.867370\n",
            "1  Over25 & CH>1x            62.554661\n"
          ]
        }
      ],
      "source": [
        "# Load dataset\n",
        "df = pd.read_csv('/content/drive/MyDrive/Colab Notebooks/Practical_1/coupons.csv')\n",
        "\n",
        "# Define age filtering logic\n",
        "def is_over_25(age_str):\n",
        "    if age_str == 'below21':\n",
        "        return False\n",
        "    elif age_str in ['21', '21-25']:\n",
        "        return False\n",
        "    else:\n",
        "        return True\n",
        "\n",
        "# Define bar frequency logic\n",
        "def bar_more_than_once_per_month(freq):\n",
        "    return freq in ['1~3', '4~8', 'gt8']\n",
        "\n",
        "# Apply filters\n",
        "df['target_group'] = df.apply(\n",
        "    lambda row: 'Over25 & CH>1x' if is_over_25(row['age']) and bar_more_than_once_per_month(row['CoffeeHouse']) else 'Other',\n",
        "    axis=1\n",
        ")\n",
        "\n",
        "# Calculate acceptance rate\n",
        "acceptance_comparison = df.groupby('target_group')['Y'].mean().reset_index()\n",
        "acceptance_comparison['Y'] = acceptance_comparison['Y'] * 100  # Convert to %\n",
        "\n",
        "# Rename columns for readability\n",
        "acceptance_comparison.columns = ['Group', 'Acceptance Rate (%)']\n",
        "\n",
        "# Show result\n",
        "print(acceptance_comparison)"
      ]
    },
    {
      "cell_type": "markdown",
      "source": [
        "Based on these observations, what do you hypothesize about drivers who accepted the **Coffee House** coupons?"
      ],
      "metadata": {
        "id": "1acAkdVXufD1"
      }
    },
    {
      "cell_type": "markdown",
      "source": [
        "\n",
        "**1. They are socially active**\n",
        "Drivers who go to coffee houses more than once a month are significantly more likely to accept coffee house coupons. This suggests they see real value in these offers and are already frequenting such venues.\n",
        "\n",
        "**2. They are younger**\n",
        "Drivers under age 30 had higher acceptance rates. This group may be more spontaneous, cost-conscious, and open to trying promotions or experiences."
      ],
      "metadata": {
        "id": "vVQ-zUPpuXGG"
      }
    }
  ],
  "metadata": {
    "kernelspec": {
      "display_name": "Python 3 (ipykernel)",
      "language": "python",
      "name": "python3"
    },
    "language_info": {
      "codemirror_mode": {
        "name": "ipython",
        "version": 3
      },
      "file_extension": ".py",
      "mimetype": "text/x-python",
      "name": "python",
      "nbconvert_exporter": "python",
      "pygments_lexer": "ipython3",
      "version": "3.12.1"
    },
    "colab": {
      "provenance": [],
      "toc_visible": true,
      "include_colab_link": true
    }
  },
  "nbformat": 4,
  "nbformat_minor": 0
}